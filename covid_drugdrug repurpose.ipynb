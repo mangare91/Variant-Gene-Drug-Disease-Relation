{
  "nbformat": 4,
  "nbformat_minor": 0,
  "metadata": {
    "colab": {
      "name": "covid_drug.ipynb",
      "provenance": [],
      "collapsed_sections": [],
      "include_colab_link": true
    },
    "kernelspec": {
      "name": "python3",
      "display_name": "Python 3"
    }
  },
  "cells": [
    {
      "cell_type": "markdown",
      "metadata": {
        "id": "view-in-github",
        "colab_type": "text"
      },
      "source": [
        "<a href=\"https://colab.research.google.com/github/mangare91/Variant-Gene-Drug-Disease-Relation/blob/master/covid_drugdrug%20repurpose.ipynb\" target=\"_parent\"><img src=\"https://colab.research.google.com/assets/colab-badge.svg\" alt=\"Open In Colab\"/></a>"
      ]
    },
    {
      "cell_type": "code",
      "metadata": {
        "id": "OoKsb7ZOJYCV",
        "outputId": "1114ff96-0ee8-4e9a-9ed1-3db089f05e61",
        "colab": {
          "base_uri": "https://localhost:8080/",
          "height": 1000
        }
      },
      "source": [
        "!wget -c https://repo.continuum.io/archive/Anaconda3-5.1.0-Linux-x86_64.sh\n",
        "!chmod +x Anaconda3-5.1.0-Linux-x86_64.sh\n",
        "!bash ./Anaconda3-5.1.0-Linux-x86_64.sh -b -f -p /usr/local"
      ],
      "execution_count": null,
      "outputs": [
        {
          "output_type": "stream",
          "text": [
            "--2020-10-23 12:55:23--  https://repo.continuum.io/archive/Anaconda3-5.1.0-Linux-x86_64.sh\n",
            "Resolving repo.continuum.io (repo.continuum.io)... 104.18.200.79, 104.18.201.79, 2606:4700::6812:c84f, ...\n",
            "Connecting to repo.continuum.io (repo.continuum.io)|104.18.200.79|:443... connected.\n",
            "HTTP request sent, awaiting response... 301 Moved Permanently\n",
            "Location: https://repo.anaconda.com/archive/Anaconda3-5.1.0-Linux-x86_64.sh [following]\n",
            "--2020-10-23 12:55:23--  https://repo.anaconda.com/archive/Anaconda3-5.1.0-Linux-x86_64.sh\n",
            "Resolving repo.anaconda.com (repo.anaconda.com)... 104.16.131.3, 104.16.130.3, 2606:4700::6810:8303, ...\n",
            "Connecting to repo.anaconda.com (repo.anaconda.com)|104.16.131.3|:443... connected.\n",
            "HTTP request sent, awaiting response... 200 OK\n",
            "Length: 577996269 (551M) [application/x-sh]\n",
            "Saving to: ‘Anaconda3-5.1.0-Linux-x86_64.sh’\n",
            "\n",
            "Anaconda3-5.1.0-Lin 100%[===================>] 551.22M   177MB/s    in 3.2s    \n",
            "\n",
            "2020-10-23 12:55:27 (170 MB/s) - ‘Anaconda3-5.1.0-Linux-x86_64.sh’ saved [577996269/577996269]\n",
            "\n",
            "PREFIX=/usr/local\n",
            "installing: python-3.6.4-hc3d631a_1 ...\n",
            "Python 3.6.4 :: Anaconda, Inc.\n",
            "installing: ca-certificates-2017.08.26-h1d4fec5_0 ...\n",
            "installing: conda-env-2.6.0-h36134e3_1 ...\n",
            "installing: intel-openmp-2018.0.0-hc7b2577_8 ...\n",
            "installing: libgcc-ng-7.2.0-h7cc24e2_2 ...\n",
            "installing: libgfortran-ng-7.2.0-h9f7466a_2 ...\n",
            "installing: libstdcxx-ng-7.2.0-h7a57d05_2 ...\n",
            "installing: bzip2-1.0.6-h9a117a8_4 ...\n",
            "installing: expat-2.2.5-he0dffb1_0 ...\n",
            "installing: gmp-6.1.2-h6c8ec71_1 ...\n",
            "installing: graphite2-1.3.10-hf63cedd_1 ...\n",
            "installing: icu-58.2-h9c2bf20_1 ...\n",
            "installing: jbig-2.1-hdba287a_0 ...\n",
            "installing: jpeg-9b-h024ee3a_2 ...\n",
            "installing: libffi-3.2.1-hd88cf55_4 ...\n",
            "installing: libsodium-1.0.15-hf101ebd_0 ...\n",
            "installing: libtool-2.4.6-h544aabb_3 ...\n",
            "installing: libxcb-1.12-hcd93eb1_4 ...\n",
            "installing: lzo-2.10-h49e0be7_2 ...\n",
            "installing: mkl-2018.0.1-h19d6760_4 ...\n",
            "installing: ncurses-6.0-h9df7e31_2 ...\n",
            "installing: openssl-1.0.2n-hb7f436b_0 ...\n",
            "installing: patchelf-0.9-hf79760b_2 ...\n",
            "installing: pcre-8.41-hc27e229_1 ...\n",
            "installing: pixman-0.34.0-hceecf20_3 ...\n",
            "installing: tk-8.6.7-hc745277_3 ...\n",
            "installing: unixodbc-2.3.4-hc36303a_1 ...\n",
            "installing: xz-5.2.3-h55aa19d_2 ...\n",
            "installing: yaml-0.1.7-had09818_2 ...\n",
            "installing: zlib-1.2.11-ha838bed_2 ...\n",
            "installing: glib-2.53.6-h5d9569c_2 ...\n",
            "installing: hdf5-1.10.1-h9caa474_1 ...\n",
            "installing: libedit-3.1-heed3624_0 ...\n",
            "installing: libpng-1.6.34-hb9fc6fc_0 ...\n",
            "installing: libssh2-1.8.0-h9cfc8f7_4 ...\n",
            "installing: libtiff-4.0.9-h28f6b97_0 ...\n",
            "installing: libxml2-2.9.7-h26e45fe_0 ...\n",
            "installing: mpfr-3.1.5-h11a74b3_2 ...\n",
            "installing: pandoc-1.19.2.1-hea2e7c5_1 ...\n",
            "installing: readline-7.0-ha6073c6_4 ...\n",
            "installing: zeromq-4.2.2-hbedb6e5_2 ...\n",
            "installing: dbus-1.12.2-hc3f9b76_1 ...\n",
            "installing: freetype-2.8-hab7d2ae_1 ...\n",
            "installing: gstreamer-1.12.4-hb53b477_0 ...\n",
            "installing: libcurl-7.58.0-h1ad7b7a_0 ...\n",
            "installing: libxslt-1.1.32-h1312cb7_0 ...\n",
            "installing: mpc-1.0.3-hec55b23_5 ...\n",
            "installing: sqlite-3.22.0-h1bed415_0 ...\n",
            "installing: curl-7.58.0-h84994c4_0 ...\n",
            "installing: fontconfig-2.12.4-h88586e7_1 ...\n",
            "installing: gst-plugins-base-1.12.4-h33fb286_0 ...\n",
            "installing: alabaster-0.7.10-py36h306e16b_0 ...\n",
            "installing: asn1crypto-0.24.0-py36_0 ...\n",
            "installing: attrs-17.4.0-py36_0 ...\n",
            "installing: backports-1.0-py36hfa02d7e_1 ...\n",
            "installing: beautifulsoup4-4.6.0-py36h49b8c8c_1 ...\n",
            "installing: bitarray-0.8.1-py36h14c3975_1 ...\n",
            "installing: boto-2.48.0-py36h6e4cd66_1 ...\n",
            "installing: cairo-1.14.12-h77bcde2_0 ...\n",
            "installing: certifi-2018.1.18-py36_0 ...\n",
            "installing: chardet-3.0.4-py36h0f667ec_1 ...\n",
            "installing: click-6.7-py36h5253387_0 ...\n",
            "installing: cloudpickle-0.5.2-py36_1 ...\n",
            "installing: colorama-0.3.9-py36h489cec4_0 ...\n",
            "installing: contextlib2-0.5.5-py36h6c84a62_0 ...\n",
            "installing: dask-core-0.16.1-py36_0 ...\n",
            "installing: decorator-4.2.1-py36_0 ...\n",
            "installing: docutils-0.14-py36hb0f60f5_0 ...\n",
            "installing: entrypoints-0.2.3-py36h1aec115_2 ...\n",
            "installing: et_xmlfile-1.0.1-py36hd6bccc3_0 ...\n",
            "installing: fastcache-1.0.2-py36h14c3975_2 ...\n",
            "installing: filelock-2.0.13-py36h646ffb5_0 ...\n",
            "installing: glob2-0.6-py36he249c77_0 ...\n",
            "installing: gmpy2-2.0.8-py36hc8893dd_2 ...\n",
            "installing: greenlet-0.4.12-py36h2d503a6_0 ...\n",
            "installing: heapdict-1.0.0-py36_2 ...\n",
            "installing: idna-2.6-py36h82fb2a8_1 ...\n",
            "installing: imagesize-0.7.1-py36h52d8127_0 ...\n",
            "installing: ipython_genutils-0.2.0-py36hb52b0d5_0 ...\n",
            "installing: itsdangerous-0.24-py36h93cc618_1 ...\n",
            "installing: jdcal-1.3-py36h4c697fb_0 ...\n",
            "installing: lazy-object-proxy-1.3.1-py36h10fcdad_0 ...\n",
            "installing: llvmlite-0.21.0-py36ha241eea_0 ...\n",
            "installing: locket-0.2.0-py36h787c0ad_1 ...\n",
            "installing: lxml-4.1.1-py36hf71bdeb_1 ...\n",
            "installing: markupsafe-1.0-py36hd9260cd_1 ...\n",
            "installing: mccabe-0.6.1-py36h5ad9710_1 ...\n",
            "installing: mistune-0.8.3-py36_0 ...\n",
            "installing: mkl-service-1.1.2-py36h17a0993_4 ...\n",
            "installing: mpmath-1.0.0-py36hfeacd6b_2 ...\n",
            "installing: msgpack-python-0.5.1-py36h6bb024c_0 ...\n",
            "installing: multipledispatch-0.4.9-py36h41da3fb_0 ...\n",
            "installing: numpy-1.14.0-py36h3dfced4_1 ...\n",
            "installing: olefile-0.45.1-py36_0 ...\n",
            "installing: pandocfilters-1.4.2-py36ha6701b7_1 ...\n",
            "installing: parso-0.1.1-py36h35f843b_0 ...\n",
            "installing: path.py-10.5-py36h55ceabb_0 ...\n",
            "installing: pep8-1.7.1-py36_0 ...\n",
            "installing: pickleshare-0.7.4-py36h63277f8_0 ...\n",
            "installing: pkginfo-1.4.1-py36h215d178_1 ...\n",
            "installing: pluggy-0.6.0-py36hb689045_0 ...\n",
            "installing: ply-3.10-py36hed35086_0 ...\n",
            "installing: psutil-5.4.3-py36h14c3975_0 ...\n",
            "installing: ptyprocess-0.5.2-py36h69acd42_0 ...\n",
            "installing: py-1.5.2-py36h29bf505_0 ...\n",
            "installing: pycodestyle-2.3.1-py36hf609f19_0 ...\n",
            "installing: pycosat-0.6.3-py36h0a5515d_0 ...\n",
            "installing: pycparser-2.18-py36hf9f622e_1 ...\n",
            "installing: pycrypto-2.6.1-py36h14c3975_7 ...\n",
            "installing: pycurl-7.43.0.1-py36hb7f436b_0 ...\n",
            "installing: pyodbc-4.0.22-py36hf484d3e_0 ...\n",
            "installing: pyparsing-2.2.0-py36hee85983_1 ...\n",
            "installing: pysocks-1.6.7-py36hd97a5b1_1 ...\n",
            "installing: pytz-2017.3-py36h63b9c63_0 ...\n",
            "installing: pyyaml-3.12-py36hafb9ca4_1 ...\n",
            "installing: pyzmq-16.0.3-py36he2533c7_0 ...\n",
            "installing: qt-5.6.2-h974d657_12 ...\n",
            "installing: qtpy-1.3.1-py36h3691cc8_0 ...\n",
            "installing: rope-0.10.7-py36h147e2ec_0 ...\n",
            "installing: ruamel_yaml-0.15.35-py36h14c3975_1 ...\n",
            "installing: send2trash-1.4.2-py36_0 ...\n",
            "installing: simplegeneric-0.8.1-py36_2 ...\n",
            "installing: sip-4.18.1-py36h51ed4ed_2 ...\n",
            "installing: six-1.11.0-py36h372c433_1 ...\n",
            "installing: snowballstemmer-1.2.1-py36h6febd40_0 ...\n",
            "installing: sortedcontainers-1.5.9-py36_0 ...\n",
            "installing: sphinxcontrib-1.0-py36h6d0f590_1 ...\n",
            "installing: sqlalchemy-1.2.1-py36h14c3975_0 ...\n",
            "installing: tblib-1.3.2-py36h34cf8b6_0 ...\n",
            "installing: testpath-0.3.1-py36h8cadb63_0 ...\n",
            "installing: toolz-0.9.0-py36_0 ...\n",
            "installing: tornado-4.5.3-py36_0 ...\n",
            "installing: typing-3.6.2-py36h7da032a_0 ...\n",
            "installing: unicodecsv-0.14.1-py36ha668878_0 ...\n",
            "installing: wcwidth-0.1.7-py36hdf4376a_0 ...\n",
            "installing: webencodings-0.5.1-py36h800622e_1 ...\n",
            "installing: werkzeug-0.14.1-py36_0 ...\n",
            "installing: wrapt-1.10.11-py36h28b7045_0 ...\n",
            "installing: xlrd-1.1.0-py36h1db9f0c_1 ...\n",
            "installing: xlsxwriter-1.0.2-py36h3de1aca_0 ...\n",
            "installing: xlwt-1.3.0-py36h7b00a1f_0 ...\n",
            "installing: babel-2.5.3-py36_0 ...\n",
            "installing: backports.shutil_get_terminal_size-1.0.0-py36hfea85ff_2 ...\n",
            "installing: bottleneck-1.2.1-py36haac1ea0_0 ...\n",
            "installing: cffi-1.11.4-py36h9745a5d_0 ...\n",
            "installing: conda-verify-2.0.0-py36h98955d8_0 ...\n",
            "installing: cycler-0.10.0-py36h93f1223_0 ...\n",
            "installing: cytoolz-0.9.0-py36h14c3975_0 ...\n",
            "installing: h5py-2.7.1-py36h3585f63_0 ...\n",
            "installing: harfbuzz-1.7.4-hc5b324e_0 ...\n",
            "installing: html5lib-1.0.1-py36h2f9c1c0_0 ...\n",
            "installing: jedi-0.11.1-py36_0 ...\n",
            "installing: networkx-2.1-py36_0 ...\n",
            "installing: nltk-3.2.5-py36h7532b22_0 ...\n",
            "installing: numba-0.36.2-np114py36hc6662d5_0 ...\n",
            "installing: numexpr-2.6.4-py36hc4a3f9a_0 ...\n",
            "installing: openpyxl-2.4.10-py36_0 ...\n",
            "installing: packaging-16.8-py36ha668100_1 ...\n",
            "installing: partd-0.3.8-py36h36fd896_0 ...\n",
            "installing: pathlib2-2.3.0-py36h49efa8e_0 ...\n",
            "installing: pexpect-4.3.1-py36_0 ...\n",
            "installing: pillow-5.0.0-py36h3deb7b8_0 ...\n",
            "installing: pyqt-5.6.0-py36h0386399_5 ...\n",
            "installing: python-dateutil-2.6.1-py36h88d3b88_1 ...\n",
            "installing: pywavelets-0.5.2-py36he602eb0_0 ...\n",
            "installing: qtawesome-0.4.4-py36h609ed8c_0 ...\n",
            "installing: scipy-1.0.0-py36hbf646e7_0 ...\n",
            "installing: setuptools-38.4.0-py36_0 ...\n",
            "installing: singledispatch-3.4.0.3-py36h7a266c3_0 ...\n",
            "installing: sortedcollections-0.5.3-py36h3c761f9_0 ...\n",
            "installing: sphinxcontrib-websupport-1.0.1-py36hb5cb234_1 ...\n",
            "installing: sympy-1.1.1-py36hc6d1c1c_0 ...\n",
            "installing: terminado-0.8.1-py36_1 ...\n",
            "installing: traitlets-4.3.2-py36h674d592_0 ...\n",
            "installing: zict-0.1.3-py36h3a3bf81_0 ...\n",
            "installing: astroid-1.6.1-py36_0 ...\n"
          ],
          "name": "stdout"
        }
      ]
    },
    {
      "cell_type": "code",
      "metadata": {
        "id": "b21HrJUYatBU"
      },
      "source": [
        "import sys\n",
        "sys.path.append('/usr/local/lib/python3.6/site-packages/')\n",
        "!conda install -y -c rdkit rdkit;"
      ],
      "execution_count": null,
      "outputs": []
    },
    {
      "cell_type": "code",
      "metadata": {
        "id": "sLfM0q-Ufp3g"
      },
      "source": [
        "!pip install git+https://github.com/samoturk/mol2vec;"
      ],
      "execution_count": null,
      "outputs": []
    },
    {
      "cell_type": "code",
      "metadata": {
        "id": "uieDMHfrGSY2"
      },
      "source": [
        "import pandas as pd\n",
        "import numpy as np\n",
        "from gensim.models import word2vec\n",
        "import rdkit\n",
        "from rdkit import Chem\n",
        "from mol2vec.features import mol2alt_sentence, mol2sentence, MolSentence, DfVec, sentences2vec\n",
        "from gensim.models import word2vec\n",
        "from sklearn.metrics import mean_squared_error\n",
        "from sklearn.metrics import r2_score\n",
        "from sklearn.metrics import mean_absolute_error"
      ],
      "execution_count": null,
      "outputs": []
    },
    {
      "cell_type": "code",
      "metadata": {
        "id": "cdpbMWPidYgM"
      },
      "source": [
        "data = pd.read_csv(\"train.csv\")\n",
        "y = data['Binding Affinity']\n",
        "data.drop(columns='Binding Affinity',inplace=True)"
      ],
      "execution_count": null,
      "outputs": []
    },
    {
      "cell_type": "code",
      "metadata": {
        "id": "qff3VTyqd5ie"
      },
      "source": [
        "data['molecules'] = data['SMILES sequence'].apply(lambda x: Chem.MolFromSmiles(x))\n",
        "model = word2vec.Word2Vec.load('model_300dim.pkl')"
      ],
      "execution_count": null,
      "outputs": []
    },
    {
      "cell_type": "code",
      "metadata": {
        "id": "UmZ4CFcoeE1n"
      },
      "source": [
        "data['sentence'] = data.apply(lambda x: MolSentence(mol2alt_sentence(x['molecules'], 1)), axis=1)\n",
        "\n",
        "data['mol2vec'] = [DfVec(x) for x in sentences2vec(data['sentence'], model, unseen='UNK')]\n",
        "train_data = [x.vec for x in data['mol2vec']] \n",
        "X = np.array(train_data)\n",
        "# print(X)\n",
        "# print(X.shape)"
      ],
      "execution_count": null,
      "outputs": []
    },
    {
      "cell_type": "code",
      "metadata": {
        "id": "VErrTkcsfW8v"
      },
      "source": [
        "y = y.values\n",
        "# print(y)\n",
        "# print(y.shape)"
      ],
      "execution_count": null,
      "outputs": []
    },
    {
      "cell_type": "markdown",
      "metadata": {
        "id": "im1HqyjRn9Po"
      },
      "source": [
        "# Testing different models by doing train-validation split"
      ]
    },
    {
      "cell_type": "code",
      "metadata": {
        "id": "L-0CO7bsDCRi"
      },
      "source": [
        "from sklearn.model_selection import train_test_split\n",
        "X_train, X_test, y_train, y_test = train_test_split(X, y, train_size = 0.80)"
      ],
      "execution_count": null,
      "outputs": []
    },
    {
      "cell_type": "markdown",
      "metadata": {
        "id": "ZMZOapqVoCwj"
      },
      "source": [
        "# Linear Regression"
      ]
    },
    {
      "cell_type": "code",
      "metadata": {
        "id": "Wlo8BU04DCUI",
        "outputId": "932c1fc6-c5f2-4f81-d30a-7a826c3282ad",
        "colab": {
          "base_uri": "https://localhost:8080/",
          "height": 69
        }
      },
      "source": [
        "from sklearn.linear_model import LinearRegression\n",
        "model = LinearRegression()\n",
        "reg = model.fit(X_train,y_train)\n",
        "y_pred = model.predict(X_test)\n",
        "r2_lr = r2_score(y_test, y_pred)\n",
        "mse_lr = mean_squared_error(y_test, y_pred)\n",
        "mae_lr = mean_absolute_error(y_test, y_pred)\n",
        "print(\"r2_score: \", r2_lr)\n",
        "print(\"MSE: \", mse_lr)\n",
        "print(\"MAE: \", mae_lr)"
      ],
      "execution_count": null,
      "outputs": [
        {
          "output_type": "stream",
          "text": [
            "r2_score:  0.5750069991639465\n",
            "MSE:  5.4877698298267115\n",
            "MAE:  1.7480879979765147\n"
          ],
          "name": "stdout"
        }
      ]
    },
    {
      "cell_type": "markdown",
      "metadata": {
        "id": "FubWB7xZoSPn"
      },
      "source": [
        "# Ridge CV linear model"
      ]
    },
    {
      "cell_type": "code",
      "metadata": {
        "id": "X0fDiw3Qbd6F",
        "outputId": "8ba45c25-a717-4ba0-ef84-68ae78cbe1d2",
        "colab": {
          "base_uri": "https://localhost:8080/",
          "height": 69
        }
      },
      "source": [
        "from sklearn import linear_model\n",
        "reg = linear_model.RidgeCV(alphas=np.logspace(-6, 6, 13))\n",
        "reg.fit(X_train,y_train)\n",
        "y_pred = reg.predict(X_test)\n",
        "r2_ridge = r2_score(y_test, y_pred)\n",
        "mse_ridge = mean_squared_error(y_test, y_pred)\n",
        "mae_ridge = mean_absolute_error(y_test, y_pred)\n",
        "print(\"r2_score: \", r2_ridge)\n",
        "print(\"MSE: \", mse_ridge)\n",
        "print(\"MAE: \", mae_ridge)"
      ],
      "execution_count": null,
      "outputs": [
        {
          "output_type": "stream",
          "text": [
            "r2_score:  0.5810688490461846\n",
            "MSE:  5.409495512764446\n",
            "MAE:  1.7328159191306627\n"
          ],
          "name": "stdout"
        }
      ]
    },
    {
      "cell_type": "markdown",
      "metadata": {
        "id": "UvJwSTPZoVYl"
      },
      "source": [
        "# Bayesian Ridge model"
      ]
    },
    {
      "cell_type": "code",
      "metadata": {
        "id": "U1_CfwOUb3Ag",
        "outputId": "f4e5b1db-1e83-46cd-bcde-0a996659a672",
        "colab": {
          "base_uri": "https://localhost:8080/",
          "height": 69
        }
      },
      "source": [
        "reg = linear_model.BayesianRidge()\n",
        "reg.fit(X_train,y_train)\n",
        "y_pred = reg.predict(X_test)\n",
        "r2_score(y_test, y_pred)\n",
        "r2_bayessian = r2_score(y_test, y_pred)\n",
        "mse_bayessian = mean_squared_error(y_test, y_pred)\n",
        "mae_bayessian = mean_absolute_error(y_test, y_pred)\n",
        "print(\"r2_score: \", r2_bayessian)\n",
        "print(\"MSE: \", mse_bayessian)\n",
        "print(\"MAE: \", mae_bayessian)"
      ],
      "execution_count": null,
      "outputs": [
        {
          "output_type": "stream",
          "text": [
            "r2_score:  0.5817218347453195\n",
            "MSE:  5.401063761625083\n",
            "MAE:  1.7307113600260875\n"
          ],
          "name": "stdout"
        }
      ]
    },
    {
      "cell_type": "markdown",
      "metadata": {
        "id": "g4u2lDY4od3l"
      },
      "source": [
        "# Support Vector Regression (SVR)"
      ]
    },
    {
      "cell_type": "markdown",
      "metadata": {
        "id": "U_wHtScPqCds"
      },
      "source": [
        "## Testing using different values of parameters for SVR"
      ]
    },
    {
      "cell_type": "code",
      "metadata": {
        "id": "D_j8Ly9aDoVd",
        "outputId": "e7be71fb-ce98-40cf-c636-445fb024c68d",
        "colab": {
          "base_uri": "https://localhost:8080/",
          "height": 69
        }
      },
      "source": [
        "from sklearn.svm import SVR\n",
        "clf = SVR(C = 10.0, epsilon = 1.0)\n",
        "clf.fit(X_train,y_train)\n",
        "y_pred_clf = clf.predict(X_test)\n",
        "r2_svr1 = r2_score(y_test, y_pred_clf)\n",
        "mse_svr1 = mean_squared_error(y_test, y_pred_clf)\n",
        "mae_svr1 = mean_absolute_error(y_test, y_pred_clf)\n",
        "print(\"r2_score: \", r2_svr1)\n",
        "print(\"MSE: \", mse_svr1)\n",
        "print(\"MAE: \", mae_svr1)"
      ],
      "execution_count": null,
      "outputs": [
        {
          "output_type": "stream",
          "text": [
            "r2_score:  0.5970496623104895\n",
            "MSE:  5.203141467602705\n",
            "MAE:  1.644531601370342\n"
          ],
          "name": "stdout"
        }
      ]
    },
    {
      "cell_type": "code",
      "metadata": {
        "id": "HimWxU90Db0H",
        "outputId": "bc6f0a2c-864b-4b58-81f4-c80c99423108",
        "colab": {
          "base_uri": "https://localhost:8080/",
          "height": 69
        }
      },
      "source": [
        "from sklearn.svm import SVR\n",
        "clf = SVR(C = 20.0, epsilon = 1.0)\n",
        "clf.fit(X_train,y_train)\n",
        "y_pred_clf = clf.predict(X_test)\n",
        "r2_svr2 = r2_score(y_test, y_pred_clf)\n",
        "mse_svr2 = mean_squared_error(y_test, y_pred_clf)\n",
        "mae_svr2 = mean_absolute_error(y_test, y_pred_clf)\n",
        "print(\"r2_score: \", r2_svr2)\n",
        "print(\"MSE: \", mse_svr2)\n",
        "print(\"MAE: \", mae_svr2)"
      ],
      "execution_count": null,
      "outputs": [
        {
          "output_type": "stream",
          "text": [
            "r2_score:  0.6080960035569034\n",
            "MSE:  5.060504346278851\n",
            "MAE:  1.6252358000906777\n"
          ],
          "name": "stdout"
        }
      ]
    },
    {
      "cell_type": "code",
      "metadata": {
        "id": "jqTMzaI0B9zv",
        "outputId": "0e5fbecc-221b-4ef2-c066-e8752cec2d72",
        "colab": {
          "base_uri": "https://localhost:8080/",
          "height": 69
        }
      },
      "source": [
        "from sklearn.svm import SVR\n",
        "clf = SVR(C = 50.0, epsilon = 0.5)\n",
        "clf.fit(X_train,y_train)\n",
        "y_pred_clf = clf.predict(X_test)\n",
        "r2_svr3 = r2_score(y_test, y_pred_clf)\n",
        "mse_svr3 = mean_squared_error(y_test, y_pred_clf)\n",
        "mae_svr3 = mean_absolute_error(y_test, y_pred_clf)\n",
        "print(\"r2_score: \", r2_svr3)\n",
        "print(\"MSE: \", mse_svr3)\n",
        "print(\"MAE: \", mae_svr3)"
      ],
      "execution_count": null,
      "outputs": [
        {
          "output_type": "stream",
          "text": [
            "r2_score:  0.6197342917123341\n",
            "MSE:  4.910223644044793\n",
            "MAE:  1.5995100610516946\n"
          ],
          "name": "stdout"
        }
      ]
    },
    {
      "cell_type": "code",
      "metadata": {
        "id": "l0a334MaB-Aq",
        "outputId": "bc9c6bea-3f28-4a9c-d36b-8f245b359fba",
        "colab": {
          "base_uri": "https://localhost:8080/",
          "height": 69
        }
      },
      "source": [
        "from sklearn.svm import SVR\n",
        "clf = SVR(C = 50.0, epsilon = 1.0)\n",
        "clf.fit(X_train,y_train)\n",
        "y_pred_clf = clf.predict(X_test)\n",
        "r2_svr4 = r2_score(y_test, y_pred_clf)\n",
        "mse_svr4 = mean_squared_error(y_test, y_pred_clf)\n",
        "mae_svr4= mean_absolute_error(y_test, y_pred_clf)\n",
        "print(\"r2_score: \", r2_svr4)\n",
        "print(\"MSE: \", mse_svr4)\n",
        "print(\"MAE: \", mae_svr4)"
      ],
      "execution_count": null,
      "outputs": [
        {
          "output_type": "stream",
          "text": [
            "r2_score:  0.6175475691365911\n",
            "MSE:  4.938459944769171\n",
            "MAE:  1.6110817360703773\n"
          ],
          "name": "stdout"
        }
      ]
    },
    {
      "cell_type": "code",
      "metadata": {
        "id": "F14k_GBtDCLi",
        "outputId": "574dad1c-9d20-44ad-a23f-03e7593d0bd5",
        "colab": {
          "base_uri": "https://localhost:8080/",
          "height": 69
        }
      },
      "source": [
        "from sklearn.svm import SVR\n",
        "clf = SVR(C = 100.0, epsilon = 1.0)\n",
        "clf.fit(X_train,y_train)\n",
        "y_pred_clf = clf.predict(X_test)\n",
        "r2_svr5 = r2_score(y_test, y_pred_clf)\n",
        "mse_svr5 = mean_squared_error(y_test, y_pred_clf)\n",
        "mae_svr5 = mean_absolute_error(y_test, y_pred_clf)\n",
        "print(\"r2_score: \", r2_svr5)\n",
        "print(\"MSE: \", mse_svr5)\n",
        "print(\"MAE: \", mae_svr5)"
      ],
      "execution_count": null,
      "outputs": [
        {
          "output_type": "stream",
          "text": [
            "r2_score:  0.621279926294635\n",
            "MSE:  4.89026546399947\n",
            "MAE:  1.6141310969788072\n"
          ],
          "name": "stdout"
        }
      ]
    },
    {
      "cell_type": "code",
      "metadata": {
        "id": "kH30dpuC6JCg",
        "outputId": "96ab46b4-66ff-4036-be9d-4b5deb1abf3b",
        "colab": {
          "base_uri": "https://localhost:8080/",
          "height": 69
        }
      },
      "source": [
        "from sklearn.svm import SVR\n",
        "clf = SVR(C = 100.0, epsilon = 1.5)\n",
        "clf.fit(X_train,y_train)\n",
        "y_pred_clf = clf.predict(X_test)\n",
        "r2_svr6 = r2_score(y_test, y_pred_clf)\n",
        "mse_svr6 = mean_squared_error(y_test, y_pred_clf)\n",
        "mae_svr6 = mean_absolute_error(y_test, y_pred_clf)\n",
        "print(\"r2_score: \", r2_svr6)\n",
        "print(\"MSE: \", mse_svr6)\n",
        "print(\"MAE: \", mae_svr6)"
      ],
      "execution_count": null,
      "outputs": [
        {
          "output_type": "stream",
          "text": [
            "r2_score:  0.6183957191297136\n",
            "MSE:  4.927508112776013\n",
            "MAE:  1.6350381198637078\n"
          ],
          "name": "stdout"
        }
      ]
    },
    {
      "cell_type": "code",
      "metadata": {
        "id": "mUqbsCFg6JFo",
        "outputId": "01064ecb-3439-4994-de41-7e35a970a900",
        "colab": {
          "base_uri": "https://localhost:8080/",
          "height": 69
        }
      },
      "source": [
        "from sklearn.svm import SVR\n",
        "clf = SVR(C = 120.0, epsilon = 1.5)\n",
        "clf.fit(X_train,y_train)\n",
        "y_pred_clf = clf.predict(X_test)\n",
        "r2_svr7 = r2_score(y_test, y_pred_clf)\n",
        "mse_svr7 = mean_squared_error(y_test, y_pred_clf)\n",
        "mae_svr7 = mean_absolute_error(y_test, y_pred_clf)\n",
        "print(\"r2_score: \", r2_svr7)\n",
        "print(\"MSE: \", mse_svr7)\n",
        "print(\"MAE: \", mae_svr7)"
      ],
      "execution_count": null,
      "outputs": [
        {
          "output_type": "stream",
          "text": [
            "r2_score:  0.6179782699359777\n",
            "MSE:  4.932898472349846\n",
            "MAE:  1.6396363778654057\n"
          ],
          "name": "stdout"
        }
      ]
    },
    {
      "cell_type": "code",
      "metadata": {
        "id": "x8oFDP5N6JJ-",
        "outputId": "d64582bb-b14b-4605-f8f3-17859c61cd8c",
        "colab": {
          "base_uri": "https://localhost:8080/",
          "height": 69
        }
      },
      "source": [
        "from sklearn.svm import SVR\n",
        "clf = SVR(C = 150.0, epsilon = 1.0)\n",
        "clf.fit(X_train,y_train)\n",
        "y_pred_clf = clf.predict(X_test)\n",
        "r2_svr8 = r2_score(y_test, y_pred_clf)\n",
        "mse_svr8 = mean_squared_error(y_test, y_pred_clf)\n",
        "mae_svr8 = mean_absolute_error(y_test, y_pred_clf)\n",
        "print(\"r2_score: \", r2_svr8)\n",
        "print(\"MSE: \", mse_svr8)\n",
        "print(\"MAE: \", mae_svr8)"
      ],
      "execution_count": null,
      "outputs": [
        {
          "output_type": "stream",
          "text": [
            "r2_score:  0.6202793434294804\n",
            "MSE:  4.903185602563717\n",
            "MAE:  1.6314457809594343\n"
          ],
          "name": "stdout"
        }
      ]
    },
    {
      "cell_type": "code",
      "metadata": {
        "id": "VpSGswPz6JNq",
        "outputId": "ba92ba6b-7e41-4db9-e14a-34d1001a3013",
        "colab": {
          "base_uri": "https://localhost:8080/",
          "height": 69
        }
      },
      "source": [
        "from sklearn.svm import SVR\n",
        "clf = SVR(C = 150.0, epsilon = 1.5)\n",
        "clf.fit(X_train,y_train)\n",
        "y_pred_clf = clf.predict(X_test)\n",
        "r2_svr9 = r2_score(y_test, y_pred_clf)\n",
        "mse_svr9 = mean_squared_error(y_test, y_pred_clf)\n",
        "mae_svr9 = mean_absolute_error(y_test, y_pred_clf)\n",
        "print(\"r2_score: \", r2_svr9)\n",
        "print(\"MSE: \", mse_svr9)\n",
        "print(\"MAE: \", mae_svr9)"
      ],
      "execution_count": null,
      "outputs": [
        {
          "output_type": "stream",
          "text": [
            "r2_score:  0.6168225397920979\n",
            "MSE:  4.947821967566304\n",
            "MAE:  1.6466994694563037\n"
          ],
          "name": "stdout"
        }
      ]
    },
    {
      "cell_type": "markdown",
      "metadata": {
        "id": "vvFhWDNo9TrC"
      },
      "source": [
        "# Comparison of the different models"
      ]
    },
    {
      "cell_type": "code",
      "metadata": {
        "id": "1iedH08hUyho",
        "outputId": "18786451-183b-4491-981e-2a6f72e5f43e",
        "colab": {
          "base_uri": "https://localhost:8080/",
          "height": 175
        }
      },
      "source": [
        "lr = [\"Linear Regression model\", r2_lr, mse_lr, mae_lr]\n",
        "ridge = [\"Ridge CV model\", r2_ridge, mse_ridge, mae_ridge]\n",
        "bayessian = [\"Bayessian Ridge model\", r2_bayessian, mse_bayessian, mae_bayessian]\n",
        "svr1 = [\"SVR model\", r2_svr1, mse_svr1, mae_svr1]\n",
        "data = [lr, ridge, bayessian, svr1]\n",
        "df1 = pd.DataFrame(data, columns = ['Model', 'r2 score', 'MSE', 'MAE'])\n",
        "df1"
      ],
      "execution_count": null,
      "outputs": [
        {
          "output_type": "execute_result",
          "data": {
            "text/html": [
              "<div>\n",
              "<style scoped>\n",
              "    .dataframe tbody tr th:only-of-type {\n",
              "        vertical-align: middle;\n",
              "    }\n",
              "\n",
              "    .dataframe tbody tr th {\n",
              "        vertical-align: top;\n",
              "    }\n",
              "\n",
              "    .dataframe thead th {\n",
              "        text-align: right;\n",
              "    }\n",
              "</style>\n",
              "<table border=\"1\" class=\"dataframe\">\n",
              "  <thead>\n",
              "    <tr style=\"text-align: right;\">\n",
              "      <th></th>\n",
              "      <th>Model</th>\n",
              "      <th>r2 score</th>\n",
              "      <th>MSE</th>\n",
              "      <th>MAE</th>\n",
              "    </tr>\n",
              "  </thead>\n",
              "  <tbody>\n",
              "    <tr>\n",
              "      <th>0</th>\n",
              "      <td>Linear Regression model</td>\n",
              "      <td>0.575007</td>\n",
              "      <td>5.487770</td>\n",
              "      <td>1.748088</td>\n",
              "    </tr>\n",
              "    <tr>\n",
              "      <th>1</th>\n",
              "      <td>Ridge CV model</td>\n",
              "      <td>0.581069</td>\n",
              "      <td>5.409496</td>\n",
              "      <td>1.732816</td>\n",
              "    </tr>\n",
              "    <tr>\n",
              "      <th>2</th>\n",
              "      <td>Bayessian Ridge model</td>\n",
              "      <td>0.581722</td>\n",
              "      <td>5.401064</td>\n",
              "      <td>1.730711</td>\n",
              "    </tr>\n",
              "    <tr>\n",
              "      <th>3</th>\n",
              "      <td>SVR model</td>\n",
              "      <td>0.597050</td>\n",
              "      <td>5.203141</td>\n",
              "      <td>1.644532</td>\n",
              "    </tr>\n",
              "  </tbody>\n",
              "</table>\n",
              "</div>"
            ],
            "text/plain": [
              "                     Model  r2 score       MSE       MAE\n",
              "0  Linear Regression model  0.575007  5.487770  1.748088\n",
              "1           Ridge CV model  0.581069  5.409496  1.732816\n",
              "2    Bayessian Ridge model  0.581722  5.401064  1.730711\n",
              "3                SVR model  0.597050  5.203141  1.644532"
            ]
          },
          "metadata": {
            "tags": []
          },
          "execution_count": 23
        }
      ]
    },
    {
      "cell_type": "markdown",
      "metadata": {
        "id": "YOogE3WT9Xpf"
      },
      "source": [
        "# Comparison of SVR models by taking different parameters"
      ]
    },
    {
      "cell_type": "code",
      "metadata": {
        "id": "ITm76CcNUykH",
        "outputId": "f408a42b-4470-4792-92bf-ff565b707848",
        "colab": {
          "base_uri": "https://localhost:8080/",
          "height": 332
        }
      },
      "source": [
        "svr1 = [\"C = 10, epsilon = 1.0\", r2_svr1, mse_svr1, mae_svr1]\n",
        "svr2 = [\"C = 20, epsilon = 1.0\", r2_svr2, mse_svr2, mae_svr2]\n",
        "svr3 = [\"C = 50, epsilon = 0.5\", r2_svr3, mse_svr3, mae_svr3]\n",
        "svr4 = [\"C = 50, epsilon = 1.0\", r2_svr4, mse_svr4, mae_svr4]\n",
        "svr5 = [\"C = 100, epsilon = 1.0\", r2_svr5, mse_svr5, mae_svr5]\n",
        "svr6 = [\"C = 100, epsilon = 1.5\", r2_svr6, mse_svr6, mae_svr6]\n",
        "svr7 = [\"C = 120, epsilon = 1.5\", r2_svr7, mse_svr7, mae_svr7]\n",
        "svr8 = [\"C = 150, epsilon = 1.0\", r2_svr8, mse_svr8, mae_svr8]\n",
        "svr9 = [\"C = 150, epsilon = 1.5\", r2_svr9, mse_svr9, mae_svr9]\n",
        "\n",
        "data = [svr1, svr2, svr3, svr4, svr5, svr6, svr7, svr8, svr9]\n",
        "df1 = pd.DataFrame(data, columns = ['SVR Model', 'r2 score', 'MSE', 'MAE'])\n",
        "df1"
      ],
      "execution_count": null,
      "outputs": [
        {
          "output_type": "execute_result",
          "data": {
            "text/html": [
              "<div>\n",
              "<style scoped>\n",
              "    .dataframe tbody tr th:only-of-type {\n",
              "        vertical-align: middle;\n",
              "    }\n",
              "\n",
              "    .dataframe tbody tr th {\n",
              "        vertical-align: top;\n",
              "    }\n",
              "\n",
              "    .dataframe thead th {\n",
              "        text-align: right;\n",
              "    }\n",
              "</style>\n",
              "<table border=\"1\" class=\"dataframe\">\n",
              "  <thead>\n",
              "    <tr style=\"text-align: right;\">\n",
              "      <th></th>\n",
              "      <th>SVR Model</th>\n",
              "      <th>r2 score</th>\n",
              "      <th>MSE</th>\n",
              "      <th>MAE</th>\n",
              "    </tr>\n",
              "  </thead>\n",
              "  <tbody>\n",
              "    <tr>\n",
              "      <th>0</th>\n",
              "      <td>C = 10, epsilon = 1.0</td>\n",
              "      <td>0.597050</td>\n",
              "      <td>5.203141</td>\n",
              "      <td>1.644532</td>\n",
              "    </tr>\n",
              "    <tr>\n",
              "      <th>1</th>\n",
              "      <td>C = 20, epsilon = 1.0</td>\n",
              "      <td>0.608096</td>\n",
              "      <td>5.060504</td>\n",
              "      <td>1.625236</td>\n",
              "    </tr>\n",
              "    <tr>\n",
              "      <th>2</th>\n",
              "      <td>C = 50, epsilon = 0.5</td>\n",
              "      <td>0.619734</td>\n",
              "      <td>4.910224</td>\n",
              "      <td>1.599510</td>\n",
              "    </tr>\n",
              "    <tr>\n",
              "      <th>3</th>\n",
              "      <td>C = 50, epsilon = 1.0</td>\n",
              "      <td>0.617548</td>\n",
              "      <td>4.938460</td>\n",
              "      <td>1.611082</td>\n",
              "    </tr>\n",
              "    <tr>\n",
              "      <th>4</th>\n",
              "      <td>C = 100, epsilon = 1.0</td>\n",
              "      <td>0.621280</td>\n",
              "      <td>4.890265</td>\n",
              "      <td>1.614131</td>\n",
              "    </tr>\n",
              "    <tr>\n",
              "      <th>5</th>\n",
              "      <td>C = 100, epsilon = 1.5</td>\n",
              "      <td>0.618396</td>\n",
              "      <td>4.927508</td>\n",
              "      <td>1.635038</td>\n",
              "    </tr>\n",
              "    <tr>\n",
              "      <th>6</th>\n",
              "      <td>C = 120, epsilon = 1.5</td>\n",
              "      <td>0.617978</td>\n",
              "      <td>4.932898</td>\n",
              "      <td>1.639636</td>\n",
              "    </tr>\n",
              "    <tr>\n",
              "      <th>7</th>\n",
              "      <td>C = 150, epsilon = 1.0</td>\n",
              "      <td>0.620279</td>\n",
              "      <td>4.903186</td>\n",
              "      <td>1.631446</td>\n",
              "    </tr>\n",
              "    <tr>\n",
              "      <th>8</th>\n",
              "      <td>C = 150, epsilon = 1.5</td>\n",
              "      <td>0.616823</td>\n",
              "      <td>4.947822</td>\n",
              "      <td>1.646699</td>\n",
              "    </tr>\n",
              "  </tbody>\n",
              "</table>\n",
              "</div>"
            ],
            "text/plain": [
              "                SVR Model  r2 score       MSE       MAE\n",
              "0   C = 10, epsilon = 1.0  0.597050  5.203141  1.644532\n",
              "1   C = 20, epsilon = 1.0  0.608096  5.060504  1.625236\n",
              "2   C = 50, epsilon = 0.5  0.619734  4.910224  1.599510\n",
              "3   C = 50, epsilon = 1.0  0.617548  4.938460  1.611082\n",
              "4  C = 100, epsilon = 1.0  0.621280  4.890265  1.614131\n",
              "5  C = 100, epsilon = 1.5  0.618396  4.927508  1.635038\n",
              "6  C = 120, epsilon = 1.5  0.617978  4.932898  1.639636\n",
              "7  C = 150, epsilon = 1.0  0.620279  4.903186  1.631446\n",
              "8  C = 150, epsilon = 1.5  0.616823  4.947822  1.646699"
            ]
          },
          "metadata": {
            "tags": []
          },
          "execution_count": 24
        }
      ]
    },
    {
      "cell_type": "markdown",
      "metadata": {
        "id": "tOLc9GmtQ34t"
      },
      "source": [
        "# Test data"
      ]
    },
    {
      "cell_type": "code",
      "metadata": {
        "id": "xHVZiGrfiqmL"
      },
      "source": [
        "data1 = pd.read_csv(\"/content/drive/My Drive/SMAI_Final_Assignment/Q3/final_test.csv\")\n",
        "data2 = data1\n",
        "data1.drop(columns='Binding Affinity',inplace=True)\n",
        "# X_test = data1\n",
        "# X_test\n",
        "# data1"
      ],
      "execution_count": null,
      "outputs": []
    },
    {
      "cell_type": "code",
      "metadata": {
        "id": "gBfyC3JFngDK"
      },
      "source": [
        "data1['molecules'] = data1['SMILES sequence'].apply(lambda x: Chem.MolFromSmiles(x))\n",
        "model = word2vec.Word2Vec.load('/content/drive/My Drive/SMAI_Final_Assignment/Q3/model_300dim.pkl')\n",
        "data1['sentence'] = data1.apply(lambda x: MolSentence(mol2alt_sentence(x['molecules'], 1)), axis=1)\n",
        "\n",
        "data1['mol2vec'] = [DfVec(x) for x in sentences2vec(data1['sentence'], model, unseen='UNK')]\n",
        "X_test = np.array([x.vec for x in data1['mol2vec']])"
      ],
      "execution_count": null,
      "outputs": []
    },
    {
      "cell_type": "code",
      "metadata": {
        "id": "Xpp1ACiC82p9"
      },
      "source": [
        "from sklearn.svm import SVR\n",
        "clf = SVR(C = 100.0, epsilon = 1.0)\n",
        "clf.fit(X,y)\n",
        "y_pred_clf = clf.predict(X_test)"
      ],
      "execution_count": null,
      "outputs": []
    },
    {
      "cell_type": "markdown",
      "metadata": {
        "id": "_7rtj1yYQ_MV"
      },
      "source": [
        "# Saving the predictions in csv file"
      ]
    },
    {
      "cell_type": "code",
      "metadata": {
        "id": "1Czt9kjouLN1"
      },
      "source": [
        "data2 = pd.read_csv(\"/content/drive/My Drive/SMAI_Final_Assignment/Q3/final_test.csv\")\n",
        "data2.drop(columns='Binding Affinity',inplace=True)\n",
        "# data2"
      ],
      "execution_count": null,
      "outputs": []
    },
    {
      "cell_type": "code",
      "metadata": {
        "id": "aNhXn7SmtkiX"
      },
      "source": [
        "dfObj = pd.DataFrame(y_pred_clf)\n",
        "data2['Binding Affinity'] = y_pred_clf"
      ],
      "execution_count": null,
      "outputs": []
    },
    {
      "cell_type": "code",
      "metadata": {
        "id": "dyMEl35luFCN"
      },
      "source": [
        "import csv\n",
        "data2.to_csv(\"submission.csv\",index=None)"
      ],
      "execution_count": null,
      "outputs": []
    },
    {
      "cell_type": "code",
      "metadata": {
        "id": "Z-K2NPO6u1oO"
      },
      "source": [
        "!cp submission.csv \"drive/My Drive/smai\""
      ],
      "execution_count": null,
      "outputs": []
    }
  ]
}